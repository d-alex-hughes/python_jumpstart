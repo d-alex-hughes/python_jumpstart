{
 "cells": [
  {
   "cell_type": "code",
   "execution_count": 2,
   "metadata": {},
   "outputs": [],
   "source": [
    "import numpy as np\n",
    "import pandas as pd\n",
    "import seaborn as sns"
   ]
  },
  {
   "cell_type": "markdown",
   "metadata": {},
   "source": [
    "# Approximating a Poisson Process\n",
    "\n",
    "There is as famous statistical feature that as Poisson process can be approximated by a normal distribution. We're not going to cover the statics that generate this here (we might in 203, but in my view this is a piece of potentially useful information further down the line of one's statistics training.\n",
    "\n",
    "Here is the claim: \n",
    "\n",
    "For some values of $\\lambda$ (which is the shape parameter of a Poisson distribution), and for some number of draws $n$, then two random variables $A$ and $B$, where: \n",
    "\n",
    "\\begin{align*}\n",
    "A \\sim Poisson(\\lambda=\\lambda) \\\\ \n",
    "B \\sim Normal(\\mu=\\lambda, \\sigma^{2}=\\lambda)\n",
    "\\end{align*}\n",
    "\n",
    "Are reasonable approximations for one another. (For context, this there are ways to demonstrate this with the *Central Limit Theorem*, but also with closed from statistics as well. "
   ]
  },
  {
   "cell_type": "markdown",
   "metadata": {},
   "source": [
    "# Your task\n",
    "\n",
    "In this exercise, we would like you to develop this intuition through simulation. \n",
    "\n",
    "Create a data frame that has the following columns: \n",
    "\n",
    "- An index column that ranges from 0 (i.e. not zero) to 9,999. This is going to enumerate each value in our \"population\". \n",
    "- 20 columns that contain values drawn from a Poisson process; set the scale parameter for this process to range from very small (it must be positive though) to quite large (maybe 10,000?). \n",
    "- On a separate DataFrame, 20 columns that contain values drawn from a Normal process with `loc=lambda` and `scale=lamba**0.5`. \n",
    "- Create a process that will sample through samples of the data frame that range from quite small to quite large (i.e. 3 - 10,000). \n",
    "- Create a plot or series of plots that you think makes the clearest statement of where this approximation starts be useful. \n",
    "    - You could write a for-loop to make all these plots. \n",
    "    - But, I suspect you'll find it easier to melt the data, and then use `seaborn` faceting arguments. "
   ]
  },
  {
   "cell_type": "code",
   "execution_count": 1,
   "metadata": {},
   "outputs": [],
   "source": [
    "'''\n",
    "np.random.poisson(..., size = []) \n",
    "np.random.normal(..., size = [])\n",
    "'''\n",
    "\n",
    "df_poisson = 'pd.DataFrame()'\n",
    "df_normal  = 'pd.DataFrame()' "
   ]
  },
  {
   "cell_type": "code",
   "execution_count": null,
   "metadata": {},
   "outputs": [],
   "source": []
  }
 ],
 "metadata": {
  "kernelspec": {
   "display_name": "Python 2",
   "language": "python",
   "name": "python2"
  },
  "language_info": {
   "codemirror_mode": {
    "name": "ipython",
    "version": 2
   },
   "file_extension": ".py",
   "mimetype": "text/x-python",
   "name": "python",
   "nbconvert_exporter": "python",
   "pygments_lexer": "ipython2",
   "version": "2.7.17"
  }
 },
 "nbformat": 4,
 "nbformat_minor": 2
}
