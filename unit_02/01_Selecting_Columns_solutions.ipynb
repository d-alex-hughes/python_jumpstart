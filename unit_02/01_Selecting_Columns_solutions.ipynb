{
 "cells": [
  {
   "cell_type": "markdown",
   "metadata": {},
   "source": [
    "## Intro to Pandas"
   ]
  },
  {
   "cell_type": "code",
   "execution_count": 1,
   "metadata": {},
   "outputs": [],
   "source": [
    "import pandas as pd \n",
    "import numpy as np\n",
    "import matplotlib.pyplot as plt"
   ]
  },
  {
   "cell_type": "markdown",
   "metadata": {},
   "source": [
    "### Read a File\n",
    "\n",
    "Read Data from Stanford Open Policing project\n",
    "https://openpolicing.stanford.edu/data/"
   ]
  },
  {
   "cell_type": "code",
   "execution_count": 2,
   "metadata": {},
   "outputs": [
    {
     "name": "stderr",
     "output_type": "stream",
     "text": [
      "/Users/ndekutoski/anaconda/envs/midsbootcamp/lib/python3.8/site-packages/IPython/core/interactiveshell.py:3062: DtypeWarning: Columns (6) have mixed types.Specify dtype option on import or set low_memory=False.\n",
      "  has_raised = await self.run_ast_nodes(code_ast.body, cell_name,\n"
     ]
    }
   ],
   "source": [
    "df = pd.read_csv('https://stacks.stanford.edu/file/druid:yg821jf8611/yg821jf8611_ca_san_francisco_2020_04_01.csv.zip')"
   ]
  },
  {
   "cell_type": "markdown",
   "metadata": {},
   "source": [
    "### Inspect the dataset"
   ]
  },
  {
   "cell_type": "markdown",
   "metadata": {},
   "source": [
    "See the dimensions of the dataset"
   ]
  },
  {
   "cell_type": "code",
   "execution_count": 3,
   "metadata": {},
   "outputs": [
    {
     "data": {
      "text/plain": [
       "(905070, 22)"
      ]
     },
     "execution_count": 3,
     "metadata": {},
     "output_type": "execute_result"
    }
   ],
   "source": [
    "df.shape # (number_of_rows, number_of_columns)"
   ]
  },
  {
   "cell_type": "markdown",
   "metadata": {},
   "source": [
    "We can look at the first few rows of a DataFrame with `head()`"
   ]
  },
  {
   "cell_type": "code",
   "execution_count": 4,
   "metadata": {},
   "outputs": [
    {
     "data": {
      "text/html": [
       "<div>\n",
       "<style scoped>\n",
       "    .dataframe tbody tr th:only-of-type {\n",
       "        vertical-align: middle;\n",
       "    }\n",
       "\n",
       "    .dataframe tbody tr th {\n",
       "        vertical-align: top;\n",
       "    }\n",
       "\n",
       "    .dataframe thead th {\n",
       "        text-align: right;\n",
       "    }\n",
       "</style>\n",
       "<table border=\"1\" class=\"dataframe\">\n",
       "  <thead>\n",
       "    <tr style=\"text-align: right;\">\n",
       "      <th></th>\n",
       "      <th>raw_row_number</th>\n",
       "      <th>date</th>\n",
       "      <th>time</th>\n",
       "      <th>location</th>\n",
       "      <th>lat</th>\n",
       "      <th>lng</th>\n",
       "      <th>district</th>\n",
       "      <th>subject_age</th>\n",
       "      <th>subject_race</th>\n",
       "      <th>subject_sex</th>\n",
       "      <th>...</th>\n",
       "      <th>citation_issued</th>\n",
       "      <th>warning_issued</th>\n",
       "      <th>outcome</th>\n",
       "      <th>contraband_found</th>\n",
       "      <th>search_conducted</th>\n",
       "      <th>search_vehicle</th>\n",
       "      <th>search_basis</th>\n",
       "      <th>reason_for_stop</th>\n",
       "      <th>raw_search_vehicle_description</th>\n",
       "      <th>raw_result_of_contact_description</th>\n",
       "    </tr>\n",
       "  </thead>\n",
       "  <tbody>\n",
       "    <tr>\n",
       "      <th>0</th>\n",
       "      <td>869921</td>\n",
       "      <td>2014-08-01</td>\n",
       "      <td>00:01:00</td>\n",
       "      <td>MASONIC AV &amp; FELL ST</td>\n",
       "      <td>37.773004</td>\n",
       "      <td>-122.445873</td>\n",
       "      <td>NaN</td>\n",
       "      <td>NaN</td>\n",
       "      <td>asian/pacific islander</td>\n",
       "      <td>female</td>\n",
       "      <td>...</td>\n",
       "      <td>False</td>\n",
       "      <td>True</td>\n",
       "      <td>warning</td>\n",
       "      <td>NaN</td>\n",
       "      <td>False</td>\n",
       "      <td>False</td>\n",
       "      <td>NaN</td>\n",
       "      <td>Mechanical or Non-Moving Violation (V.C.)</td>\n",
       "      <td>No Search</td>\n",
       "      <td>Warning</td>\n",
       "    </tr>\n",
       "    <tr>\n",
       "      <th>1</th>\n",
       "      <td>869922</td>\n",
       "      <td>2014-08-01</td>\n",
       "      <td>00:01:00</td>\n",
       "      <td>GEARY&amp;10TH AV</td>\n",
       "      <td>37.780898</td>\n",
       "      <td>-122.468586</td>\n",
       "      <td>NaN</td>\n",
       "      <td>NaN</td>\n",
       "      <td>black</td>\n",
       "      <td>male</td>\n",
       "      <td>...</td>\n",
       "      <td>True</td>\n",
       "      <td>False</td>\n",
       "      <td>citation</td>\n",
       "      <td>NaN</td>\n",
       "      <td>False</td>\n",
       "      <td>False</td>\n",
       "      <td>NaN</td>\n",
       "      <td>Mechanical or Non-Moving Violation (V.C.)</td>\n",
       "      <td>No Search</td>\n",
       "      <td>Citation</td>\n",
       "    </tr>\n",
       "    <tr>\n",
       "      <th>2</th>\n",
       "      <td>869923</td>\n",
       "      <td>2014-08-01</td>\n",
       "      <td>00:15:00</td>\n",
       "      <td>SUTTER N OCTAVIA ST</td>\n",
       "      <td>37.786919</td>\n",
       "      <td>-122.426718</td>\n",
       "      <td>NaN</td>\n",
       "      <td>NaN</td>\n",
       "      <td>hispanic</td>\n",
       "      <td>male</td>\n",
       "      <td>...</td>\n",
       "      <td>True</td>\n",
       "      <td>False</td>\n",
       "      <td>citation</td>\n",
       "      <td>NaN</td>\n",
       "      <td>False</td>\n",
       "      <td>False</td>\n",
       "      <td>NaN</td>\n",
       "      <td>Mechanical or Non-Moving Violation (V.C.)</td>\n",
       "      <td>No Search</td>\n",
       "      <td>Citation</td>\n",
       "    </tr>\n",
       "    <tr>\n",
       "      <th>3</th>\n",
       "      <td>869924</td>\n",
       "      <td>2014-08-01</td>\n",
       "      <td>00:18:00</td>\n",
       "      <td>3RD ST &amp; DAVIDSON</td>\n",
       "      <td>37.746380</td>\n",
       "      <td>-122.392005</td>\n",
       "      <td>NaN</td>\n",
       "      <td>NaN</td>\n",
       "      <td>hispanic</td>\n",
       "      <td>male</td>\n",
       "      <td>...</td>\n",
       "      <td>False</td>\n",
       "      <td>True</td>\n",
       "      <td>warning</td>\n",
       "      <td>NaN</td>\n",
       "      <td>False</td>\n",
       "      <td>False</td>\n",
       "      <td>NaN</td>\n",
       "      <td>Mechanical or Non-Moving Violation (V.C.)</td>\n",
       "      <td>No Search</td>\n",
       "      <td>Warning</td>\n",
       "    </tr>\n",
       "    <tr>\n",
       "      <th>4</th>\n",
       "      <td>869925</td>\n",
       "      <td>2014-08-01</td>\n",
       "      <td>00:19:00</td>\n",
       "      <td>DIVISADERO ST. &amp; BUSH ST.</td>\n",
       "      <td>37.786348</td>\n",
       "      <td>-122.440003</td>\n",
       "      <td>NaN</td>\n",
       "      <td>NaN</td>\n",
       "      <td>white</td>\n",
       "      <td>male</td>\n",
       "      <td>...</td>\n",
       "      <td>True</td>\n",
       "      <td>False</td>\n",
       "      <td>citation</td>\n",
       "      <td>NaN</td>\n",
       "      <td>False</td>\n",
       "      <td>False</td>\n",
       "      <td>NaN</td>\n",
       "      <td>Mechanical or Non-Moving Violation (V.C.)</td>\n",
       "      <td>No Search</td>\n",
       "      <td>Citation</td>\n",
       "    </tr>\n",
       "  </tbody>\n",
       "</table>\n",
       "<p>5 rows × 22 columns</p>\n",
       "</div>"
      ],
      "text/plain": [
       "  raw_row_number        date      time                   location        lat  \\\n",
       "0         869921  2014-08-01  00:01:00       MASONIC AV & FELL ST  37.773004   \n",
       "1         869922  2014-08-01  00:01:00              GEARY&10TH AV  37.780898   \n",
       "2         869923  2014-08-01  00:15:00        SUTTER N OCTAVIA ST  37.786919   \n",
       "3         869924  2014-08-01  00:18:00          3RD ST & DAVIDSON  37.746380   \n",
       "4         869925  2014-08-01  00:19:00  DIVISADERO ST. & BUSH ST.  37.786348   \n",
       "\n",
       "          lng district  subject_age            subject_race subject_sex  ...  \\\n",
       "0 -122.445873      NaN          NaN  asian/pacific islander      female  ...   \n",
       "1 -122.468586      NaN          NaN                   black        male  ...   \n",
       "2 -122.426718      NaN          NaN                hispanic        male  ...   \n",
       "3 -122.392005      NaN          NaN                hispanic        male  ...   \n",
       "4 -122.440003      NaN          NaN                   white        male  ...   \n",
       "\n",
       "  citation_issued  warning_issued   outcome  contraband_found  \\\n",
       "0           False            True   warning               NaN   \n",
       "1            True           False  citation               NaN   \n",
       "2            True           False  citation               NaN   \n",
       "3           False            True   warning               NaN   \n",
       "4            True           False  citation               NaN   \n",
       "\n",
       "  search_conducted search_vehicle  search_basis  \\\n",
       "0            False          False           NaN   \n",
       "1            False          False           NaN   \n",
       "2            False          False           NaN   \n",
       "3            False          False           NaN   \n",
       "4            False          False           NaN   \n",
       "\n",
       "                             reason_for_stop raw_search_vehicle_description  \\\n",
       "0  Mechanical or Non-Moving Violation (V.C.)                      No Search   \n",
       "1  Mechanical or Non-Moving Violation (V.C.)                      No Search   \n",
       "2  Mechanical or Non-Moving Violation (V.C.)                      No Search   \n",
       "3  Mechanical or Non-Moving Violation (V.C.)                      No Search   \n",
       "4  Mechanical or Non-Moving Violation (V.C.)                      No Search   \n",
       "\n",
       "  raw_result_of_contact_description  \n",
       "0                           Warning  \n",
       "1                          Citation  \n",
       "2                          Citation  \n",
       "3                           Warning  \n",
       "4                          Citation  \n",
       "\n",
       "[5 rows x 22 columns]"
      ]
     },
     "execution_count": 4,
     "metadata": {},
     "output_type": "execute_result"
    }
   ],
   "source": [
    "df.head()"
   ]
  },
  {
   "cell_type": "markdown",
   "metadata": {},
   "source": [
    "We can also pass an integer into `head()` to specify the number of rows we want to see"
   ]
  },
  {
   "cell_type": "code",
   "execution_count": 5,
   "metadata": {},
   "outputs": [
    {
     "data": {
      "text/html": [
       "<div>\n",
       "<style scoped>\n",
       "    .dataframe tbody tr th:only-of-type {\n",
       "        vertical-align: middle;\n",
       "    }\n",
       "\n",
       "    .dataframe tbody tr th {\n",
       "        vertical-align: top;\n",
       "    }\n",
       "\n",
       "    .dataframe thead th {\n",
       "        text-align: right;\n",
       "    }\n",
       "</style>\n",
       "<table border=\"1\" class=\"dataframe\">\n",
       "  <thead>\n",
       "    <tr style=\"text-align: right;\">\n",
       "      <th></th>\n",
       "      <th>raw_row_number</th>\n",
       "      <th>date</th>\n",
       "      <th>time</th>\n",
       "      <th>location</th>\n",
       "      <th>lat</th>\n",
       "      <th>lng</th>\n",
       "      <th>district</th>\n",
       "      <th>subject_age</th>\n",
       "      <th>subject_race</th>\n",
       "      <th>subject_sex</th>\n",
       "      <th>...</th>\n",
       "      <th>citation_issued</th>\n",
       "      <th>warning_issued</th>\n",
       "      <th>outcome</th>\n",
       "      <th>contraband_found</th>\n",
       "      <th>search_conducted</th>\n",
       "      <th>search_vehicle</th>\n",
       "      <th>search_basis</th>\n",
       "      <th>reason_for_stop</th>\n",
       "      <th>raw_search_vehicle_description</th>\n",
       "      <th>raw_result_of_contact_description</th>\n",
       "    </tr>\n",
       "  </thead>\n",
       "  <tbody>\n",
       "    <tr>\n",
       "      <th>0</th>\n",
       "      <td>869921</td>\n",
       "      <td>2014-08-01</td>\n",
       "      <td>00:01:00</td>\n",
       "      <td>MASONIC AV &amp; FELL ST</td>\n",
       "      <td>37.773004</td>\n",
       "      <td>-122.445873</td>\n",
       "      <td>NaN</td>\n",
       "      <td>NaN</td>\n",
       "      <td>asian/pacific islander</td>\n",
       "      <td>female</td>\n",
       "      <td>...</td>\n",
       "      <td>False</td>\n",
       "      <td>True</td>\n",
       "      <td>warning</td>\n",
       "      <td>NaN</td>\n",
       "      <td>False</td>\n",
       "      <td>False</td>\n",
       "      <td>NaN</td>\n",
       "      <td>Mechanical or Non-Moving Violation (V.C.)</td>\n",
       "      <td>No Search</td>\n",
       "      <td>Warning</td>\n",
       "    </tr>\n",
       "    <tr>\n",
       "      <th>1</th>\n",
       "      <td>869922</td>\n",
       "      <td>2014-08-01</td>\n",
       "      <td>00:01:00</td>\n",
       "      <td>GEARY&amp;10TH AV</td>\n",
       "      <td>37.780898</td>\n",
       "      <td>-122.468586</td>\n",
       "      <td>NaN</td>\n",
       "      <td>NaN</td>\n",
       "      <td>black</td>\n",
       "      <td>male</td>\n",
       "      <td>...</td>\n",
       "      <td>True</td>\n",
       "      <td>False</td>\n",
       "      <td>citation</td>\n",
       "      <td>NaN</td>\n",
       "      <td>False</td>\n",
       "      <td>False</td>\n",
       "      <td>NaN</td>\n",
       "      <td>Mechanical or Non-Moving Violation (V.C.)</td>\n",
       "      <td>No Search</td>\n",
       "      <td>Citation</td>\n",
       "    </tr>\n",
       "  </tbody>\n",
       "</table>\n",
       "<p>2 rows × 22 columns</p>\n",
       "</div>"
      ],
      "text/plain": [
       "  raw_row_number        date      time              location        lat  \\\n",
       "0         869921  2014-08-01  00:01:00  MASONIC AV & FELL ST  37.773004   \n",
       "1         869922  2014-08-01  00:01:00         GEARY&10TH AV  37.780898   \n",
       "\n",
       "          lng district  subject_age            subject_race subject_sex  ...  \\\n",
       "0 -122.445873      NaN          NaN  asian/pacific islander      female  ...   \n",
       "1 -122.468586      NaN          NaN                   black        male  ...   \n",
       "\n",
       "  citation_issued  warning_issued   outcome  contraband_found  \\\n",
       "0           False            True   warning               NaN   \n",
       "1            True           False  citation               NaN   \n",
       "\n",
       "  search_conducted search_vehicle  search_basis  \\\n",
       "0            False          False           NaN   \n",
       "1            False          False           NaN   \n",
       "\n",
       "                             reason_for_stop raw_search_vehicle_description  \\\n",
       "0  Mechanical or Non-Moving Violation (V.C.)                      No Search   \n",
       "1  Mechanical or Non-Moving Violation (V.C.)                      No Search   \n",
       "\n",
       "  raw_result_of_contact_description  \n",
       "0                           Warning  \n",
       "1                          Citation  \n",
       "\n",
       "[2 rows x 22 columns]"
      ]
     },
     "execution_count": 5,
     "metadata": {},
     "output_type": "execute_result"
    }
   ],
   "source": [
    "df.head(2)"
   ]
  },
  {
   "cell_type": "code",
   "execution_count": 6,
   "metadata": {},
   "outputs": [
    {
     "data": {
      "text/html": [
       "<div>\n",
       "<style scoped>\n",
       "    .dataframe tbody tr th:only-of-type {\n",
       "        vertical-align: middle;\n",
       "    }\n",
       "\n",
       "    .dataframe tbody tr th {\n",
       "        vertical-align: top;\n",
       "    }\n",
       "\n",
       "    .dataframe thead th {\n",
       "        text-align: right;\n",
       "    }\n",
       "</style>\n",
       "<table border=\"1\" class=\"dataframe\">\n",
       "  <thead>\n",
       "    <tr style=\"text-align: right;\">\n",
       "      <th></th>\n",
       "      <th>lat</th>\n",
       "      <th>lng</th>\n",
       "      <th>subject_age</th>\n",
       "    </tr>\n",
       "  </thead>\n",
       "  <tbody>\n",
       "    <tr>\n",
       "      <th>count</th>\n",
       "      <td>903373.000000</td>\n",
       "      <td>903373.000000</td>\n",
       "      <td>846182.000000</td>\n",
       "    </tr>\n",
       "    <tr>\n",
       "      <th>mean</th>\n",
       "      <td>37.762853</td>\n",
       "      <td>-122.429254</td>\n",
       "      <td>37.818577</td>\n",
       "    </tr>\n",
       "    <tr>\n",
       "      <th>std</th>\n",
       "      <td>0.036688</td>\n",
       "      <td>0.042173</td>\n",
       "      <td>13.632684</td>\n",
       "    </tr>\n",
       "    <tr>\n",
       "      <th>min</th>\n",
       "      <td>36.038676</td>\n",
       "      <td>-123.767429</td>\n",
       "      <td>10.000000</td>\n",
       "    </tr>\n",
       "    <tr>\n",
       "      <th>25%</th>\n",
       "      <td>37.740649</td>\n",
       "      <td>-122.448233</td>\n",
       "      <td>27.000000</td>\n",
       "    </tr>\n",
       "    <tr>\n",
       "      <th>50%</th>\n",
       "      <td>37.770038</td>\n",
       "      <td>-122.421294</td>\n",
       "      <td>35.000000</td>\n",
       "    </tr>\n",
       "    <tr>\n",
       "      <th>75%</th>\n",
       "      <td>37.782610</td>\n",
       "      <td>-122.408425</td>\n",
       "      <td>47.000000</td>\n",
       "    </tr>\n",
       "    <tr>\n",
       "      <th>max</th>\n",
       "      <td>39.929646</td>\n",
       "      <td>-113.268151</td>\n",
       "      <td>100.000000</td>\n",
       "    </tr>\n",
       "  </tbody>\n",
       "</table>\n",
       "</div>"
      ],
      "text/plain": [
       "                 lat            lng    subject_age\n",
       "count  903373.000000  903373.000000  846182.000000\n",
       "mean       37.762853    -122.429254      37.818577\n",
       "std         0.036688       0.042173      13.632684\n",
       "min        36.038676    -123.767429      10.000000\n",
       "25%        37.740649    -122.448233      27.000000\n",
       "50%        37.770038    -122.421294      35.000000\n",
       "75%        37.782610    -122.408425      47.000000\n",
       "max        39.929646    -113.268151     100.000000"
      ]
     },
     "execution_count": 6,
     "metadata": {},
     "output_type": "execute_result"
    }
   ],
   "source": [
    "df.describe()"
   ]
  },
  {
   "cell_type": "markdown",
   "metadata": {},
   "source": [
    "# Series\n",
    "\n",
    "We can look at one column of a pandas dataframe - called a Series"
   ]
  },
  {
   "cell_type": "code",
   "execution_count": 7,
   "metadata": {},
   "outputs": [
    {
     "data": {
      "text/plain": [
       "0        NaN\n",
       "1        NaN\n",
       "2        NaN\n",
       "3        NaN\n",
       "4        NaN\n",
       "          ..\n",
       "905065   NaN\n",
       "905066   NaN\n",
       "905067   NaN\n",
       "905068   NaN\n",
       "905069   NaN\n",
       "Name: subject_age, Length: 905070, dtype: float64"
      ]
     },
     "execution_count": 7,
     "metadata": {},
     "output_type": "execute_result"
    }
   ],
   "source": [
    "df['subject_age']"
   ]
  },
  {
   "cell_type": "markdown",
   "metadata": {},
   "source": [
    "We can also call `head()` on a series the same way as a DataFrame"
   ]
  },
  {
   "cell_type": "code",
   "execution_count": 8,
   "metadata": {},
   "outputs": [
    {
     "data": {
      "text/plain": [
       "0   NaN\n",
       "1   NaN\n",
       "2   NaN\n",
       "3   NaN\n",
       "4   NaN\n",
       "Name: subject_age, dtype: float64"
      ]
     },
     "execution_count": 8,
     "metadata": {},
     "output_type": "execute_result"
    }
   ],
   "source": [
    "df['subject_age'].head()"
   ]
  },
  {
   "cell_type": "code",
   "execution_count": 9,
   "metadata": {},
   "outputs": [
    {
     "data": {
      "text/plain": [
       "<matplotlib.axes._subplots.AxesSubplot at 0x1114e1490>"
      ]
     },
     "execution_count": 9,
     "metadata": {},
     "output_type": "execute_result"
    },
    {
     "data": {
      "image/png": "[encoded data removed]",
      "text/plain": [
       "<Figure size 432x288 with 1 Axes>"
      ]
     },
     "metadata": {
      "needs_background": "light"
     },
     "output_type": "display_data"
    }
   ],
   "source": [
    "df['subject_age'].hist(bins=25)"
   ]
  },
  {
   "cell_type": "code",
   "execution_count": 10,
   "metadata": {},
   "outputs": [
    {
     "data": {
      "text/plain": [
       "count    846182.000000\n",
       "mean         37.818577\n",
       "std          13.632684\n",
       "min          10.000000\n",
       "25%          27.000000\n",
       "50%          35.000000\n",
       "75%          47.000000\n",
       "max         100.000000\n",
       "Name: subject_age, dtype: float64"
      ]
     },
     "execution_count": 10,
     "metadata": {},
     "output_type": "execute_result"
    }
   ],
   "source": [
    "# Find Summary Statistics for a Numeric column\n",
    "df['subject_age'].describe()"
   ]
  },
  {
   "cell_type": "markdown",
   "metadata": {},
   "source": [
    "## Summary Statistics on a Series"
   ]
  },
  {
   "cell_type": "code",
   "execution_count": 11,
   "metadata": {},
   "outputs": [
    {
     "data": {
      "text/plain": [
       "37.81857685462465"
      ]
     },
     "execution_count": 11,
     "metadata": {},
     "output_type": "execute_result"
    }
   ],
   "source": [
    "# Mean of a column\n",
    "df['subject_age'].mean()"
   ]
  },
  {
   "cell_type": "code",
   "execution_count": 12,
   "metadata": {},
   "outputs": [
    {
     "data": {
      "text/plain": [
       "846182"
      ]
     },
     "execution_count": 12,
     "metadata": {},
     "output_type": "execute_result"
    }
   ],
   "source": [
    "# count number of values\n",
    "df['subject_age'].count()"
   ]
  },
  {
   "cell_type": "code",
   "execution_count": 13,
   "metadata": {},
   "outputs": [
    {
     "data": {
      "text/plain": [
       "91"
      ]
     },
     "execution_count": 13,
     "metadata": {},
     "output_type": "execute_result"
    }
   ],
   "source": [
    "# Number of unique values in a Series\n",
    "df['subject_age'].nunique()"
   ]
  },
  {
   "cell_type": "code",
   "execution_count": 14,
   "metadata": {},
   "outputs": [
    {
     "data": {
      "text/plain": [
       "array([10., 11., 12., ..., nan, nan, nan])"
      ]
     },
     "execution_count": 14,
     "metadata": {},
     "output_type": "execute_result"
    }
   ],
   "source": [
    "# Find the unique values of a Series\n",
    "unique_ages = np.unique(df['subject_age'])\n",
    "unique_ages"
   ]
  },
  {
   "cell_type": "code",
   "execution_count": 15,
   "metadata": {},
   "outputs": [
    {
     "data": {
      "text/plain": [
       "58888"
      ]
     },
     "execution_count": 15,
     "metadata": {},
     "output_type": "execute_result"
    }
   ],
   "source": [
    "# Find the number of null values in a column\n",
    "df['subject_age'].isna().sum()"
   ]
  },
  {
   "cell_type": "markdown",
   "metadata": {},
   "source": [
    "Why is the length of the `subject_age` series not equal to the count?"
   ]
  },
  {
   "cell_type": "code",
   "execution_count": 16,
   "metadata": {},
   "outputs": [
    {
     "data": {
      "text/plain": [
       "False"
      ]
     },
     "execution_count": 16,
     "metadata": {},
     "output_type": "execute_result"
    }
   ],
   "source": [
    "len(df['subject_age']) == df['subject_age'].count()"
   ]
  },
  {
   "cell_type": "markdown",
   "metadata": {},
   "source": [
    "Because of missing / null values!"
   ]
  },
  {
   "cell_type": "code",
   "execution_count": 17,
   "metadata": {},
   "outputs": [
    {
     "name": "stdout",
     "output_type": "stream",
     "text": [
      "14.0% of dataset is missing\n"
     ]
    }
   ],
   "source": [
    "perc_null = df['subject_age'].count() / df['subject_age'].isna().sum()\n",
    "print(f\"{perc_null.round()}% of dataset is missing\")"
   ]
  },
  {
   "cell_type": "markdown",
   "metadata": {},
   "source": [
    "We'll fill these for now"
   ]
  },
  {
   "cell_type": "code",
   "execution_count": 18,
   "metadata": {},
   "outputs": [
    {
     "name": "stdout",
     "output_type": "stream",
     "text": [
      "Mean age: 37.81857685462465\n"
     ]
    }
   ],
   "source": [
    "mean_age = df['subject_age'].mean()\n",
    "print(f\"Mean age: {mean_age}\")\n",
    "df['subject_age'] = df['subject_age'].fillna(df['subject_age'].mean())"
   ]
  },
  {
   "cell_type": "markdown",
   "metadata": {},
   "source": [
    "## Select multiple columns"
   ]
  },
  {
   "cell_type": "code",
   "execution_count": 19,
   "metadata": {},
   "outputs": [],
   "source": [
    "small_df = df[['time','subject_age', 'citation_issued']]"
   ]
  },
  {
   "cell_type": "code",
   "execution_count": 20,
   "metadata": {
    "scrolled": true
   },
   "outputs": [
    {
     "data": {
      "text/html": [
       "<div>\n",
       "<style scoped>\n",
       "    .dataframe tbody tr th:only-of-type {\n",
       "        vertical-align: middle;\n",
       "    }\n",
       "\n",
       "    .dataframe tbody tr th {\n",
       "        vertical-align: top;\n",
       "    }\n",
       "\n",
       "    .dataframe thead th {\n",
       "        text-align: right;\n",
       "    }\n",
       "</style>\n",
       "<table border=\"1\" class=\"dataframe\">\n",
       "  <thead>\n",
       "    <tr style=\"text-align: right;\">\n",
       "      <th></th>\n",
       "      <th>time</th>\n",
       "      <th>subject_age</th>\n",
       "      <th>citation_issued</th>\n",
       "    </tr>\n",
       "  </thead>\n",
       "  <tbody>\n",
       "    <tr>\n",
       "      <th>0</th>\n",
       "      <td>00:01:00</td>\n",
       "      <td>37.818577</td>\n",
       "      <td>False</td>\n",
       "    </tr>\n",
       "    <tr>\n",
       "      <th>1</th>\n",
       "      <td>00:01:00</td>\n",
       "      <td>37.818577</td>\n",
       "      <td>True</td>\n",
       "    </tr>\n",
       "    <tr>\n",
       "      <th>2</th>\n",
       "      <td>00:15:00</td>\n",
       "      <td>37.818577</td>\n",
       "      <td>True</td>\n",
       "    </tr>\n",
       "    <tr>\n",
       "      <th>3</th>\n",
       "      <td>00:18:00</td>\n",
       "      <td>37.818577</td>\n",
       "      <td>False</td>\n",
       "    </tr>\n",
       "    <tr>\n",
       "      <th>4</th>\n",
       "      <td>00:19:00</td>\n",
       "      <td>37.818577</td>\n",
       "      <td>True</td>\n",
       "    </tr>\n",
       "  </tbody>\n",
       "</table>\n",
       "</div>"
      ],
      "text/plain": [
       "       time  subject_age  citation_issued\n",
       "0  00:01:00    37.818577            False\n",
       "1  00:01:00    37.818577             True\n",
       "2  00:15:00    37.818577             True\n",
       "3  00:18:00    37.818577            False\n",
       "4  00:19:00    37.818577             True"
      ]
     },
     "execution_count": 20,
     "metadata": {},
     "output_type": "execute_result"
    }
   ],
   "source": [
    "small_df.head()"
   ]
  },
  {
   "cell_type": "markdown",
   "metadata": {},
   "source": [
    "# Column Operations"
   ]
  },
  {
   "cell_type": "markdown",
   "metadata": {},
   "source": [
    "### Assign a value to a column"
   ]
  },
  {
   "cell_type": "code",
   "execution_count": 21,
   "metadata": {},
   "outputs": [],
   "source": [
    "df['NewColumn'] = 'MyValue'"
   ]
  },
  {
   "cell_type": "markdown",
   "metadata": {},
   "source": [
    "Let's see if our new column is there"
   ]
  },
  {
   "cell_type": "code",
   "execution_count": 22,
   "metadata": {},
   "outputs": [
    {
     "data": {
      "text/html": [
       "<div>\n",
       "<style scoped>\n",
       "    .dataframe tbody tr th:only-of-type {\n",
       "        vertical-align: middle;\n",
       "    }\n",
       "\n",
       "    .dataframe tbody tr th {\n",
       "        vertical-align: top;\n",
       "    }\n",
       "\n",
       "    .dataframe thead th {\n",
       "        text-align: right;\n",
       "    }\n",
       "</style>\n",
       "<table border=\"1\" class=\"dataframe\">\n",
       "  <thead>\n",
       "    <tr style=\"text-align: right;\">\n",
       "      <th></th>\n",
       "      <th>raw_row_number</th>\n",
       "      <th>date</th>\n",
       "      <th>time</th>\n",
       "      <th>location</th>\n",
       "      <th>lat</th>\n",
       "      <th>lng</th>\n",
       "      <th>district</th>\n",
       "      <th>subject_age</th>\n",
       "      <th>subject_race</th>\n",
       "      <th>subject_sex</th>\n",
       "      <th>...</th>\n",
       "      <th>warning_issued</th>\n",
       "      <th>outcome</th>\n",
       "      <th>contraband_found</th>\n",
       "      <th>search_conducted</th>\n",
       "      <th>search_vehicle</th>\n",
       "      <th>search_basis</th>\n",
       "      <th>reason_for_stop</th>\n",
       "      <th>raw_search_vehicle_description</th>\n",
       "      <th>raw_result_of_contact_description</th>\n",
       "      <th>NewColumn</th>\n",
       "    </tr>\n",
       "  </thead>\n",
       "  <tbody>\n",
       "    <tr>\n",
       "      <th>0</th>\n",
       "      <td>869921</td>\n",
       "      <td>2014-08-01</td>\n",
       "      <td>00:01:00</td>\n",
       "      <td>MASONIC AV &amp; FELL ST</td>\n",
       "      <td>37.773004</td>\n",
       "      <td>-122.445873</td>\n",
       "      <td>NaN</td>\n",
       "      <td>37.818577</td>\n",
       "      <td>asian/pacific islander</td>\n",
       "      <td>female</td>\n",
       "      <td>...</td>\n",
       "      <td>True</td>\n",
       "      <td>warning</td>\n",
       "      <td>NaN</td>\n",
       "      <td>False</td>\n",
       "      <td>False</td>\n",
       "      <td>NaN</td>\n",
       "      <td>Mechanical or Non-Moving Violation (V.C.)</td>\n",
       "      <td>No Search</td>\n",
       "      <td>Warning</td>\n",
       "      <td>MyValue</td>\n",
       "    </tr>\n",
       "    <tr>\n",
       "      <th>1</th>\n",
       "      <td>869922</td>\n",
       "      <td>2014-08-01</td>\n",
       "      <td>00:01:00</td>\n",
       "      <td>GEARY&amp;10TH AV</td>\n",
       "      <td>37.780898</td>\n",
       "      <td>-122.468586</td>\n",
       "      <td>NaN</td>\n",
       "      <td>37.818577</td>\n",
       "      <td>black</td>\n",
       "      <td>male</td>\n",
       "      <td>...</td>\n",
       "      <td>False</td>\n",
       "      <td>citation</td>\n",
       "      <td>NaN</td>\n",
       "      <td>False</td>\n",
       "      <td>False</td>\n",
       "      <td>NaN</td>\n",
       "      <td>Mechanical or Non-Moving Violation (V.C.)</td>\n",
       "      <td>No Search</td>\n",
       "      <td>Citation</td>\n",
       "      <td>MyValue</td>\n",
       "    </tr>\n",
       "  </tbody>\n",
       "</table>\n",
       "<p>2 rows × 23 columns</p>\n",
       "</div>"
      ],
      "text/plain": [
       "  raw_row_number        date      time              location        lat  \\\n",
       "0         869921  2014-08-01  00:01:00  MASONIC AV & FELL ST  37.773004   \n",
       "1         869922  2014-08-01  00:01:00         GEARY&10TH AV  37.780898   \n",
       "\n",
       "          lng district  subject_age            subject_race subject_sex  ...  \\\n",
       "0 -122.445873      NaN    37.818577  asian/pacific islander      female  ...   \n",
       "1 -122.468586      NaN    37.818577                   black        male  ...   \n",
       "\n",
       "  warning_issued   outcome  contraband_found  search_conducted search_vehicle  \\\n",
       "0           True   warning               NaN             False          False   \n",
       "1          False  citation               NaN             False          False   \n",
       "\n",
       "  search_basis                            reason_for_stop  \\\n",
       "0          NaN  Mechanical or Non-Moving Violation (V.C.)   \n",
       "1          NaN  Mechanical or Non-Moving Violation (V.C.)   \n",
       "\n",
       "   raw_search_vehicle_description raw_result_of_contact_description NewColumn  \n",
       "0                       No Search                           Warning   MyValue  \n",
       "1                       No Search                          Citation   MyValue  \n",
       "\n",
       "[2 rows x 23 columns]"
      ]
     },
     "execution_count": 22,
     "metadata": {},
     "output_type": "execute_result"
    }
   ],
   "source": [
    "df.head(2)"
   ]
  },
  {
   "cell_type": "code",
   "execution_count": 23,
   "metadata": {},
   "outputs": [
    {
     "data": {
      "text/plain": [
       "0    MyValue\n",
       "1    MyValue\n",
       "2    MyValue\n",
       "3    MyValue\n",
       "4    MyValue\n",
       "Name: NewColumn, dtype: object"
      ]
     },
     "execution_count": 23,
     "metadata": {},
     "output_type": "execute_result"
    }
   ],
   "source": [
    "df['NewColumn'].head()"
   ]
  },
  {
   "cell_type": "markdown",
   "metadata": {},
   "source": [
    "### Add a numeric column"
   ]
  },
  {
   "cell_type": "code",
   "execution_count": 24,
   "metadata": {},
   "outputs": [
    {
     "data": {
      "text/plain": [
       "0         47.818577\n",
       "1         47.818577\n",
       "2         47.818577\n",
       "3         47.818577\n",
       "4         47.818577\n",
       "            ...    \n",
       "905065    47.818577\n",
       "905066    47.818577\n",
       "905067    47.818577\n",
       "905068    47.818577\n",
       "905069    47.818577\n",
       "Name: subject_age, Length: 905070, dtype: float64"
      ]
     },
     "execution_count": 24,
     "metadata": {},
     "output_type": "execute_result"
    }
   ],
   "source": [
    "df['subject_age'] + 10"
   ]
  },
  {
   "cell_type": "markdown",
   "metadata": {},
   "source": [
    "## Add String Columns"
   ]
  },
  {
   "cell_type": "code",
   "execution_count": 25,
   "metadata": {},
   "outputs": [
    {
     "data": {
      "text/plain": [
       "0    2014-08-01 00:01:00\n",
       "1    2014-08-01 00:01:00\n",
       "2    2014-08-01 00:15:00\n",
       "3    2014-08-01 00:18:00\n",
       "4    2014-08-01 00:19:00\n",
       "Name: full_timestamp, dtype: object"
      ]
     },
     "execution_count": 25,
     "metadata": {},
     "output_type": "execute_result"
    }
   ],
   "source": [
    "df['full_timestamp'] = df['date'] + \" \" + df['time']\n",
    "df['full_timestamp'].head()"
   ]
  },
  {
   "cell_type": "markdown",
   "metadata": {},
   "source": [
    "### Add Numerical Columns"
   ]
  },
  {
   "cell_type": "code",
   "execution_count": 26,
   "metadata": {},
   "outputs": [
    {
     "data": {
      "text/plain": [
       "0         47.818577\n",
       "1         47.818577\n",
       "2         47.818577\n",
       "3         47.818577\n",
       "4         47.818577\n",
       "            ...    \n",
       "905065    47.818577\n",
       "905066    47.818577\n",
       "905067    47.818577\n",
       "905068    47.818577\n",
       "905069    47.818577\n",
       "Name: subject_age, Length: 905070, dtype: float64"
      ]
     },
     "execution_count": 26,
     "metadata": {},
     "output_type": "execute_result"
    }
   ],
   "source": [
    "df['subject_age'] + 10"
   ]
  },
  {
   "cell_type": "markdown",
   "metadata": {},
   "source": [
    "### Slicing String"
   ]
  },
  {
   "cell_type": "code",
   "execution_count": 27,
   "metadata": {},
   "outputs": [
    {
     "data": {
      "text/plain": [
       "0         2014\n",
       "1         2014\n",
       "2         2014\n",
       "3         2014\n",
       "4         2014\n",
       "          ... \n",
       "905065    2014\n",
       "905066    2014\n",
       "905067    2014\n",
       "905068    2014\n",
       "905069    2014\n",
       "Name: date, Length: 905070, dtype: object"
      ]
     },
     "execution_count": 27,
     "metadata": {},
     "output_type": "execute_result"
    }
   ],
   "source": [
    "df['date'].str[:4]"
   ]
  },
  {
   "cell_type": "markdown",
   "metadata": {},
   "source": [
    "### Sorting"
   ]
  },
  {
   "cell_type": "code",
   "execution_count": 28,
   "metadata": {},
   "outputs": [
    {
     "data": {
      "text/html": [
       "<div>\n",
       "<style scoped>\n",
       "    .dataframe tbody tr th:only-of-type {\n",
       "        vertical-align: middle;\n",
       "    }\n",
       "\n",
       "    .dataframe tbody tr th {\n",
       "        vertical-align: top;\n",
       "    }\n",
       "\n",
       "    .dataframe thead th {\n",
       "        text-align: right;\n",
       "    }\n",
       "</style>\n",
       "<table border=\"1\" class=\"dataframe\">\n",
       "  <thead>\n",
       "    <tr style=\"text-align: right;\">\n",
       "      <th></th>\n",
       "      <th>raw_row_number</th>\n",
       "      <th>date</th>\n",
       "      <th>time</th>\n",
       "      <th>location</th>\n",
       "      <th>lat</th>\n",
       "      <th>lng</th>\n",
       "      <th>district</th>\n",
       "      <th>subject_age</th>\n",
       "      <th>subject_race</th>\n",
       "      <th>subject_sex</th>\n",
       "      <th>...</th>\n",
       "      <th>outcome</th>\n",
       "      <th>contraband_found</th>\n",
       "      <th>search_conducted</th>\n",
       "      <th>search_vehicle</th>\n",
       "      <th>search_basis</th>\n",
       "      <th>reason_for_stop</th>\n",
       "      <th>raw_search_vehicle_description</th>\n",
       "      <th>raw_result_of_contact_description</th>\n",
       "      <th>NewColumn</th>\n",
       "      <th>full_timestamp</th>\n",
       "    </tr>\n",
       "  </thead>\n",
       "  <tbody>\n",
       "    <tr>\n",
       "      <th>206133</th>\n",
       "      <td>173589</td>\n",
       "      <td>2008-08-14</td>\n",
       "      <td>21:53:00</td>\n",
       "      <td>VALLEJO &amp; CARD</td>\n",
       "      <td>37.643488</td>\n",
       "      <td>-122.463757</td>\n",
       "      <td>A</td>\n",
       "      <td>100.0</td>\n",
       "      <td>white</td>\n",
       "      <td>male</td>\n",
       "      <td>...</td>\n",
       "      <td>NaN</td>\n",
       "      <td>True</td>\n",
       "      <td>True</td>\n",
       "      <td>True</td>\n",
       "      <td>other</td>\n",
       "      <td>MPC Violation</td>\n",
       "      <td>Search without Consent, Positive Result</td>\n",
       "      <td>No Further Action</td>\n",
       "      <td>MyValue</td>\n",
       "      <td>2008-08-14 21:53:00</td>\n",
       "    </tr>\n",
       "    <tr>\n",
       "      <th>250250</th>\n",
       "      <td>217719</td>\n",
       "      <td>2009-01-06</td>\n",
       "      <td>18:00:00</td>\n",
       "      <td>400 NORTHPOINT</td>\n",
       "      <td>37.807110</td>\n",
       "      <td>-122.414362</td>\n",
       "      <td>A</td>\n",
       "      <td>100.0</td>\n",
       "      <td>white</td>\n",
       "      <td>male</td>\n",
       "      <td>...</td>\n",
       "      <td>warning</td>\n",
       "      <td>NaN</td>\n",
       "      <td>False</td>\n",
       "      <td>False</td>\n",
       "      <td>NaN</td>\n",
       "      <td>Moving Violation</td>\n",
       "      <td>No Search</td>\n",
       "      <td>Warning</td>\n",
       "      <td>MyValue</td>\n",
       "      <td>2009-01-06 18:00:00</td>\n",
       "    </tr>\n",
       "    <tr>\n",
       "      <th>288005</th>\n",
       "      <td>255555</td>\n",
       "      <td>2009-04-30</td>\n",
       "      <td>10:49:00</td>\n",
       "      <td>300 BLK  GEARY</td>\n",
       "      <td>37.787376</td>\n",
       "      <td>-122.408247</td>\n",
       "      <td>A</td>\n",
       "      <td>100.0</td>\n",
       "      <td>white</td>\n",
       "      <td>male</td>\n",
       "      <td>...</td>\n",
       "      <td>warning</td>\n",
       "      <td>NaN</td>\n",
       "      <td>False</td>\n",
       "      <td>False</td>\n",
       "      <td>NaN</td>\n",
       "      <td>Moving Violation</td>\n",
       "      <td>No Search</td>\n",
       "      <td>Warning</td>\n",
       "      <td>MyValue</td>\n",
       "      <td>2009-04-30 10:49:00</td>\n",
       "    </tr>\n",
       "    <tr>\n",
       "      <th>364042</th>\n",
       "      <td>331729</td>\n",
       "      <td>2010-01-17</td>\n",
       "      <td>18:25:00</td>\n",
       "      <td>SANTA ROSA/CAYUGA</td>\n",
       "      <td>37.727176</td>\n",
       "      <td>-122.436832</td>\n",
       "      <td>H</td>\n",
       "      <td>100.0</td>\n",
       "      <td>white</td>\n",
       "      <td>male</td>\n",
       "      <td>...</td>\n",
       "      <td>warning</td>\n",
       "      <td>True</td>\n",
       "      <td>True</td>\n",
       "      <td>True</td>\n",
       "      <td>other</td>\n",
       "      <td>Moving Violation</td>\n",
       "      <td>Search without Consent, Positive Result</td>\n",
       "      <td>Warning</td>\n",
       "      <td>MyValue</td>\n",
       "      <td>2010-01-17 18:25:00</td>\n",
       "    </tr>\n",
       "    <tr>\n",
       "      <th>861559</th>\n",
       "      <td>744186</td>\n",
       "      <td>2016-03-17</td>\n",
       "      <td>16:27:00</td>\n",
       "      <td>SFO</td>\n",
       "      <td>37.621313</td>\n",
       "      <td>-122.378955</td>\n",
       "      <td>S</td>\n",
       "      <td>99.0</td>\n",
       "      <td>other</td>\n",
       "      <td>male</td>\n",
       "      <td>...</td>\n",
       "      <td>NaN</td>\n",
       "      <td>NaN</td>\n",
       "      <td>False</td>\n",
       "      <td>False</td>\n",
       "      <td>NaN</td>\n",
       "      <td>Mechanical or Non-Moving Violation (V.C.)</td>\n",
       "      <td>No Search</td>\n",
       "      <td>No Further Action</td>\n",
       "      <td>MyValue</td>\n",
       "      <td>2016-03-17 16:27:00</td>\n",
       "    </tr>\n",
       "    <tr>\n",
       "      <th>...</th>\n",
       "      <td>...</td>\n",
       "      <td>...</td>\n",
       "      <td>...</td>\n",
       "      <td>...</td>\n",
       "      <td>...</td>\n",
       "      <td>...</td>\n",
       "      <td>...</td>\n",
       "      <td>...</td>\n",
       "      <td>...</td>\n",
       "      <td>...</td>\n",
       "      <td>...</td>\n",
       "      <td>...</td>\n",
       "      <td>...</td>\n",
       "      <td>...</td>\n",
       "      <td>...</td>\n",
       "      <td>...</td>\n",
       "      <td>...</td>\n",
       "      <td>...</td>\n",
       "      <td>...</td>\n",
       "      <td>...</td>\n",
       "      <td>...</td>\n",
       "    </tr>\n",
       "    <tr>\n",
       "      <th>610664</th>\n",
       "      <td>578686</td>\n",
       "      <td>2012-07-08</td>\n",
       "      <td>01:50:00</td>\n",
       "      <td>125 BACON ST</td>\n",
       "      <td>37.727386</td>\n",
       "      <td>-122.404041</td>\n",
       "      <td>C</td>\n",
       "      <td>10.0</td>\n",
       "      <td>hispanic</td>\n",
       "      <td>male</td>\n",
       "      <td>...</td>\n",
       "      <td>warning</td>\n",
       "      <td>False</td>\n",
       "      <td>True</td>\n",
       "      <td>True</td>\n",
       "      <td>consent</td>\n",
       "      <td>Mechanical or Non-Moving Violation (V.C.)</td>\n",
       "      <td>Search with Consent, Negative Result</td>\n",
       "      <td>Warning</td>\n",
       "      <td>MyValue</td>\n",
       "      <td>2012-07-08 01:50:00</td>\n",
       "    </tr>\n",
       "    <tr>\n",
       "      <th>555822</th>\n",
       "      <td>523842</td>\n",
       "      <td>2011-11-25</td>\n",
       "      <td>10:21:00</td>\n",
       "      <td>MINNESOTA @ 22ND ST</td>\n",
       "      <td>37.757826</td>\n",
       "      <td>-122.390210</td>\n",
       "      <td>C</td>\n",
       "      <td>10.0</td>\n",
       "      <td>black</td>\n",
       "      <td>female</td>\n",
       "      <td>...</td>\n",
       "      <td>citation</td>\n",
       "      <td>NaN</td>\n",
       "      <td>False</td>\n",
       "      <td>False</td>\n",
       "      <td>NaN</td>\n",
       "      <td>Moving Violation</td>\n",
       "      <td>No Search</td>\n",
       "      <td>Citation</td>\n",
       "      <td>MyValue</td>\n",
       "      <td>2011-11-25 10:21:00</td>\n",
       "    </tr>\n",
       "    <tr>\n",
       "      <th>788690</th>\n",
       "      <td>797979</td>\n",
       "      <td>2015-04-22</td>\n",
       "      <td>22:30:00</td>\n",
       "      <td>245 BAYSHORE</td>\n",
       "      <td>37.744164</td>\n",
       "      <td>-122.404008</td>\n",
       "      <td>C</td>\n",
       "      <td>10.0</td>\n",
       "      <td>black</td>\n",
       "      <td>female</td>\n",
       "      <td>...</td>\n",
       "      <td>citation</td>\n",
       "      <td>NaN</td>\n",
       "      <td>False</td>\n",
       "      <td>False</td>\n",
       "      <td>NaN</td>\n",
       "      <td>Moving Violation</td>\n",
       "      <td>No Search</td>\n",
       "      <td>Citation</td>\n",
       "      <td>MyValue</td>\n",
       "      <td>2015-04-22 22:30:00</td>\n",
       "    </tr>\n",
       "    <tr>\n",
       "      <th>400376</th>\n",
       "      <td>368139</td>\n",
       "      <td>2010-05-22</td>\n",
       "      <td>15:50:00</td>\n",
       "      <td>O\"FARRELL AND LEAVENWORTH</td>\n",
       "      <td>37.785602</td>\n",
       "      <td>-122.414642</td>\n",
       "      <td>J</td>\n",
       "      <td>10.0</td>\n",
       "      <td>white</td>\n",
       "      <td>male</td>\n",
       "      <td>...</td>\n",
       "      <td>citation</td>\n",
       "      <td>NaN</td>\n",
       "      <td>False</td>\n",
       "      <td>False</td>\n",
       "      <td>NaN</td>\n",
       "      <td>Moving Violation</td>\n",
       "      <td>No Search</td>\n",
       "      <td>Citation</td>\n",
       "      <td>MyValue</td>\n",
       "      <td>2010-05-22 15:50:00</td>\n",
       "    </tr>\n",
       "    <tr>\n",
       "      <th>567525</th>\n",
       "      <td>535572</td>\n",
       "      <td>2012-01-16</td>\n",
       "      <td>12:20:00</td>\n",
       "      <td>BRAZIL AVE. @ MADRID ST.</td>\n",
       "      <td>37.723140</td>\n",
       "      <td>-122.431510</td>\n",
       "      <td>H</td>\n",
       "      <td>10.0</td>\n",
       "      <td>black</td>\n",
       "      <td>male</td>\n",
       "      <td>...</td>\n",
       "      <td>citation</td>\n",
       "      <td>NaN</td>\n",
       "      <td>False</td>\n",
       "      <td>False</td>\n",
       "      <td>NaN</td>\n",
       "      <td>Moving Violation</td>\n",
       "      <td>No Search</td>\n",
       "      <td>Citation</td>\n",
       "      <td>MyValue</td>\n",
       "      <td>2012-01-16 12:20:00</td>\n",
       "    </tr>\n",
       "  </tbody>\n",
       "</table>\n",
       "<p>905070 rows × 24 columns</p>\n",
       "</div>"
      ],
      "text/plain": [
       "       raw_row_number        date      time                   location  \\\n",
       "206133         173589  2008-08-14  21:53:00             VALLEJO & CARD   \n",
       "250250         217719  2009-01-06  18:00:00             400 NORTHPOINT   \n",
       "288005         255555  2009-04-30  10:49:00             300 BLK  GEARY   \n",
       "364042         331729  2010-01-17  18:25:00          SANTA ROSA/CAYUGA   \n",
       "861559         744186  2016-03-17  16:27:00                        SFO   \n",
       "...               ...         ...       ...                        ...   \n",
       "610664         578686  2012-07-08  01:50:00               125 BACON ST   \n",
       "555822         523842  2011-11-25  10:21:00        MINNESOTA @ 22ND ST   \n",
       "788690         797979  2015-04-22  22:30:00               245 BAYSHORE   \n",
       "400376         368139  2010-05-22  15:50:00  O\"FARRELL AND LEAVENWORTH   \n",
       "567525         535572  2012-01-16  12:20:00   BRAZIL AVE. @ MADRID ST.   \n",
       "\n",
       "              lat         lng district  subject_age subject_race subject_sex  \\\n",
       "206133  37.643488 -122.463757        A        100.0        white        male   \n",
       "250250  37.807110 -122.414362        A        100.0        white        male   \n",
       "288005  37.787376 -122.408247        A        100.0        white        male   \n",
       "364042  37.727176 -122.436832        H        100.0        white        male   \n",
       "861559  37.621313 -122.378955        S         99.0        other        male   \n",
       "...           ...         ...      ...          ...          ...         ...   \n",
       "610664  37.727386 -122.404041        C         10.0     hispanic        male   \n",
       "555822  37.757826 -122.390210        C         10.0        black      female   \n",
       "788690  37.744164 -122.404008        C         10.0        black      female   \n",
       "400376  37.785602 -122.414642        J         10.0        white        male   \n",
       "567525  37.723140 -122.431510        H         10.0        black        male   \n",
       "\n",
       "        ...   outcome  contraband_found  search_conducted  search_vehicle  \\\n",
       "206133  ...       NaN              True              True            True   \n",
       "250250  ...   warning               NaN             False           False   \n",
       "288005  ...   warning               NaN             False           False   \n",
       "364042  ...   warning              True              True            True   \n",
       "861559  ...       NaN               NaN             False           False   \n",
       "...     ...       ...               ...               ...             ...   \n",
       "610664  ...   warning             False              True            True   \n",
       "555822  ...  citation               NaN             False           False   \n",
       "788690  ...  citation               NaN             False           False   \n",
       "400376  ...  citation               NaN             False           False   \n",
       "567525  ...  citation               NaN             False           False   \n",
       "\n",
       "       search_basis                            reason_for_stop  \\\n",
       "206133        other                              MPC Violation   \n",
       "250250          NaN                           Moving Violation   \n",
       "288005          NaN                           Moving Violation   \n",
       "364042        other                           Moving Violation   \n",
       "861559          NaN  Mechanical or Non-Moving Violation (V.C.)   \n",
       "...             ...                                        ...   \n",
       "610664      consent  Mechanical or Non-Moving Violation (V.C.)   \n",
       "555822          NaN                           Moving Violation   \n",
       "788690          NaN                           Moving Violation   \n",
       "400376          NaN                           Moving Violation   \n",
       "567525          NaN                           Moving Violation   \n",
       "\n",
       "                 raw_search_vehicle_description  \\\n",
       "206133  Search without Consent, Positive Result   \n",
       "250250                                No Search   \n",
       "288005                                No Search   \n",
       "364042  Search without Consent, Positive Result   \n",
       "861559                                No Search   \n",
       "...                                         ...   \n",
       "610664     Search with Consent, Negative Result   \n",
       "555822                                No Search   \n",
       "788690                                No Search   \n",
       "400376                                No Search   \n",
       "567525                                No Search   \n",
       "\n",
       "        raw_result_of_contact_description NewColumn       full_timestamp  \n",
       "206133                  No Further Action   MyValue  2008-08-14 21:53:00  \n",
       "250250                            Warning   MyValue  2009-01-06 18:00:00  \n",
       "288005                            Warning   MyValue  2009-04-30 10:49:00  \n",
       "364042                            Warning   MyValue  2010-01-17 18:25:00  \n",
       "861559                  No Further Action   MyValue  2016-03-17 16:27:00  \n",
       "...                                   ...       ...                  ...  \n",
       "610664                            Warning   MyValue  2012-07-08 01:50:00  \n",
       "555822                           Citation   MyValue  2011-11-25 10:21:00  \n",
       "788690                           Citation   MyValue  2015-04-22 22:30:00  \n",
       "400376                           Citation   MyValue  2010-05-22 15:50:00  \n",
       "567525                           Citation   MyValue  2012-01-16 12:20:00  \n",
       "\n",
       "[905070 rows x 24 columns]"
      ]
     },
     "execution_count": 28,
     "metadata": {},
     "output_type": "execute_result"
    }
   ],
   "source": [
    "# Sort in ascending order\n",
    "df.sort_values(by=['subject_age'], ascending=False)"
   ]
  },
  {
   "cell_type": "code",
   "execution_count": 29,
   "metadata": {},
   "outputs": [
    {
     "data": {
      "text/html": [
       "<div>\n",
       "<style scoped>\n",
       "    .dataframe tbody tr th:only-of-type {\n",
       "        vertical-align: middle;\n",
       "    }\n",
       "\n",
       "    .dataframe tbody tr th {\n",
       "        vertical-align: top;\n",
       "    }\n",
       "\n",
       "    .dataframe thead th {\n",
       "        text-align: right;\n",
       "    }\n",
       "</style>\n",
       "<table border=\"1\" class=\"dataframe\">\n",
       "  <thead>\n",
       "    <tr style=\"text-align: right;\">\n",
       "      <th></th>\n",
       "      <th>raw_row_number</th>\n",
       "      <th>date</th>\n",
       "      <th>time</th>\n",
       "      <th>location</th>\n",
       "      <th>lat</th>\n",
       "      <th>lng</th>\n",
       "      <th>district</th>\n",
       "      <th>subject_age</th>\n",
       "      <th>subject_race</th>\n",
       "      <th>subject_sex</th>\n",
       "      <th>...</th>\n",
       "      <th>outcome</th>\n",
       "      <th>contraband_found</th>\n",
       "      <th>search_conducted</th>\n",
       "      <th>search_vehicle</th>\n",
       "      <th>search_basis</th>\n",
       "      <th>reason_for_stop</th>\n",
       "      <th>raw_search_vehicle_description</th>\n",
       "      <th>raw_result_of_contact_description</th>\n",
       "      <th>NewColumn</th>\n",
       "      <th>full_timestamp</th>\n",
       "    </tr>\n",
       "  </thead>\n",
       "  <tbody>\n",
       "    <tr>\n",
       "      <th>206133</th>\n",
       "      <td>173589</td>\n",
       "      <td>2008-08-14</td>\n",
       "      <td>21:53:00</td>\n",
       "      <td>VALLEJO &amp; CARD</td>\n",
       "      <td>37.643488</td>\n",
       "      <td>-122.463757</td>\n",
       "      <td>A</td>\n",
       "      <td>100.0</td>\n",
       "      <td>white</td>\n",
       "      <td>male</td>\n",
       "      <td>...</td>\n",
       "      <td>NaN</td>\n",
       "      <td>True</td>\n",
       "      <td>True</td>\n",
       "      <td>True</td>\n",
       "      <td>other</td>\n",
       "      <td>MPC Violation</td>\n",
       "      <td>Search without Consent, Positive Result</td>\n",
       "      <td>No Further Action</td>\n",
       "      <td>MyValue</td>\n",
       "      <td>2008-08-14 21:53:00</td>\n",
       "    </tr>\n",
       "    <tr>\n",
       "      <th>250250</th>\n",
       "      <td>217719</td>\n",
       "      <td>2009-01-06</td>\n",
       "      <td>18:00:00</td>\n",
       "      <td>400 NORTHPOINT</td>\n",
       "      <td>37.807110</td>\n",
       "      <td>-122.414362</td>\n",
       "      <td>A</td>\n",
       "      <td>100.0</td>\n",
       "      <td>white</td>\n",
       "      <td>male</td>\n",
       "      <td>...</td>\n",
       "      <td>warning</td>\n",
       "      <td>NaN</td>\n",
       "      <td>False</td>\n",
       "      <td>False</td>\n",
       "      <td>NaN</td>\n",
       "      <td>Moving Violation</td>\n",
       "      <td>No Search</td>\n",
       "      <td>Warning</td>\n",
       "      <td>MyValue</td>\n",
       "      <td>2009-01-06 18:00:00</td>\n",
       "    </tr>\n",
       "    <tr>\n",
       "      <th>288005</th>\n",
       "      <td>255555</td>\n",
       "      <td>2009-04-30</td>\n",
       "      <td>10:49:00</td>\n",
       "      <td>300 BLK  GEARY</td>\n",
       "      <td>37.787376</td>\n",
       "      <td>-122.408247</td>\n",
       "      <td>A</td>\n",
       "      <td>100.0</td>\n",
       "      <td>white</td>\n",
       "      <td>male</td>\n",
       "      <td>...</td>\n",
       "      <td>warning</td>\n",
       "      <td>NaN</td>\n",
       "      <td>False</td>\n",
       "      <td>False</td>\n",
       "      <td>NaN</td>\n",
       "      <td>Moving Violation</td>\n",
       "      <td>No Search</td>\n",
       "      <td>Warning</td>\n",
       "      <td>MyValue</td>\n",
       "      <td>2009-04-30 10:49:00</td>\n",
       "    </tr>\n",
       "    <tr>\n",
       "      <th>364042</th>\n",
       "      <td>331729</td>\n",
       "      <td>2010-01-17</td>\n",
       "      <td>18:25:00</td>\n",
       "      <td>SANTA ROSA/CAYUGA</td>\n",
       "      <td>37.727176</td>\n",
       "      <td>-122.436832</td>\n",
       "      <td>H</td>\n",
       "      <td>100.0</td>\n",
       "      <td>white</td>\n",
       "      <td>male</td>\n",
       "      <td>...</td>\n",
       "      <td>warning</td>\n",
       "      <td>True</td>\n",
       "      <td>True</td>\n",
       "      <td>True</td>\n",
       "      <td>other</td>\n",
       "      <td>Moving Violation</td>\n",
       "      <td>Search without Consent, Positive Result</td>\n",
       "      <td>Warning</td>\n",
       "      <td>MyValue</td>\n",
       "      <td>2010-01-17 18:25:00</td>\n",
       "    </tr>\n",
       "    <tr>\n",
       "      <th>861559</th>\n",
       "      <td>744186</td>\n",
       "      <td>2016-03-17</td>\n",
       "      <td>16:27:00</td>\n",
       "      <td>SFO</td>\n",
       "      <td>37.621313</td>\n",
       "      <td>-122.378955</td>\n",
       "      <td>S</td>\n",
       "      <td>99.0</td>\n",
       "      <td>other</td>\n",
       "      <td>male</td>\n",
       "      <td>...</td>\n",
       "      <td>NaN</td>\n",
       "      <td>NaN</td>\n",
       "      <td>False</td>\n",
       "      <td>False</td>\n",
       "      <td>NaN</td>\n",
       "      <td>Mechanical or Non-Moving Violation (V.C.)</td>\n",
       "      <td>No Search</td>\n",
       "      <td>No Further Action</td>\n",
       "      <td>MyValue</td>\n",
       "      <td>2016-03-17 16:27:00</td>\n",
       "    </tr>\n",
       "    <tr>\n",
       "      <th>...</th>\n",
       "      <td>...</td>\n",
       "      <td>...</td>\n",
       "      <td>...</td>\n",
       "      <td>...</td>\n",
       "      <td>...</td>\n",
       "      <td>...</td>\n",
       "      <td>...</td>\n",
       "      <td>...</td>\n",
       "      <td>...</td>\n",
       "      <td>...</td>\n",
       "      <td>...</td>\n",
       "      <td>...</td>\n",
       "      <td>...</td>\n",
       "      <td>...</td>\n",
       "      <td>...</td>\n",
       "      <td>...</td>\n",
       "      <td>...</td>\n",
       "      <td>...</td>\n",
       "      <td>...</td>\n",
       "      <td>...</td>\n",
       "      <td>...</td>\n",
       "    </tr>\n",
       "    <tr>\n",
       "      <th>610664</th>\n",
       "      <td>578686</td>\n",
       "      <td>2012-07-08</td>\n",
       "      <td>01:50:00</td>\n",
       "      <td>125 BACON ST</td>\n",
       "      <td>37.727386</td>\n",
       "      <td>-122.404041</td>\n",
       "      <td>C</td>\n",
       "      <td>10.0</td>\n",
       "      <td>hispanic</td>\n",
       "      <td>male</td>\n",
       "      <td>...</td>\n",
       "      <td>warning</td>\n",
       "      <td>False</td>\n",
       "      <td>True</td>\n",
       "      <td>True</td>\n",
       "      <td>consent</td>\n",
       "      <td>Mechanical or Non-Moving Violation (V.C.)</td>\n",
       "      <td>Search with Consent, Negative Result</td>\n",
       "      <td>Warning</td>\n",
       "      <td>MyValue</td>\n",
       "      <td>2012-07-08 01:50:00</td>\n",
       "    </tr>\n",
       "    <tr>\n",
       "      <th>555822</th>\n",
       "      <td>523842</td>\n",
       "      <td>2011-11-25</td>\n",
       "      <td>10:21:00</td>\n",
       "      <td>MINNESOTA @ 22ND ST</td>\n",
       "      <td>37.757826</td>\n",
       "      <td>-122.390210</td>\n",
       "      <td>C</td>\n",
       "      <td>10.0</td>\n",
       "      <td>black</td>\n",
       "      <td>female</td>\n",
       "      <td>...</td>\n",
       "      <td>citation</td>\n",
       "      <td>NaN</td>\n",
       "      <td>False</td>\n",
       "      <td>False</td>\n",
       "      <td>NaN</td>\n",
       "      <td>Moving Violation</td>\n",
       "      <td>No Search</td>\n",
       "      <td>Citation</td>\n",
       "      <td>MyValue</td>\n",
       "      <td>2011-11-25 10:21:00</td>\n",
       "    </tr>\n",
       "    <tr>\n",
       "      <th>788690</th>\n",
       "      <td>797979</td>\n",
       "      <td>2015-04-22</td>\n",
       "      <td>22:30:00</td>\n",
       "      <td>245 BAYSHORE</td>\n",
       "      <td>37.744164</td>\n",
       "      <td>-122.404008</td>\n",
       "      <td>C</td>\n",
       "      <td>10.0</td>\n",
       "      <td>black</td>\n",
       "      <td>female</td>\n",
       "      <td>...</td>\n",
       "      <td>citation</td>\n",
       "      <td>NaN</td>\n",
       "      <td>False</td>\n",
       "      <td>False</td>\n",
       "      <td>NaN</td>\n",
       "      <td>Moving Violation</td>\n",
       "      <td>No Search</td>\n",
       "      <td>Citation</td>\n",
       "      <td>MyValue</td>\n",
       "      <td>2015-04-22 22:30:00</td>\n",
       "    </tr>\n",
       "    <tr>\n",
       "      <th>400376</th>\n",
       "      <td>368139</td>\n",
       "      <td>2010-05-22</td>\n",
       "      <td>15:50:00</td>\n",
       "      <td>O\"FARRELL AND LEAVENWORTH</td>\n",
       "      <td>37.785602</td>\n",
       "      <td>-122.414642</td>\n",
       "      <td>J</td>\n",
       "      <td>10.0</td>\n",
       "      <td>white</td>\n",
       "      <td>male</td>\n",
       "      <td>...</td>\n",
       "      <td>citation</td>\n",
       "      <td>NaN</td>\n",
       "      <td>False</td>\n",
       "      <td>False</td>\n",
       "      <td>NaN</td>\n",
       "      <td>Moving Violation</td>\n",
       "      <td>No Search</td>\n",
       "      <td>Citation</td>\n",
       "      <td>MyValue</td>\n",
       "      <td>2010-05-22 15:50:00</td>\n",
       "    </tr>\n",
       "    <tr>\n",
       "      <th>567525</th>\n",
       "      <td>535572</td>\n",
       "      <td>2012-01-16</td>\n",
       "      <td>12:20:00</td>\n",
       "      <td>BRAZIL AVE. @ MADRID ST.</td>\n",
       "      <td>37.723140</td>\n",
       "      <td>-122.431510</td>\n",
       "      <td>H</td>\n",
       "      <td>10.0</td>\n",
       "      <td>black</td>\n",
       "      <td>male</td>\n",
       "      <td>...</td>\n",
       "      <td>citation</td>\n",
       "      <td>NaN</td>\n",
       "      <td>False</td>\n",
       "      <td>False</td>\n",
       "      <td>NaN</td>\n",
       "      <td>Moving Violation</td>\n",
       "      <td>No Search</td>\n",
       "      <td>Citation</td>\n",
       "      <td>MyValue</td>\n",
       "      <td>2012-01-16 12:20:00</td>\n",
       "    </tr>\n",
       "  </tbody>\n",
       "</table>\n",
       "<p>905070 rows × 24 columns</p>\n",
       "</div>"
      ],
      "text/plain": [
       "       raw_row_number        date      time                   location  \\\n",
       "206133         173589  2008-08-14  21:53:00             VALLEJO & CARD   \n",
       "250250         217719  2009-01-06  18:00:00             400 NORTHPOINT   \n",
       "288005         255555  2009-04-30  10:49:00             300 BLK  GEARY   \n",
       "364042         331729  2010-01-17  18:25:00          SANTA ROSA/CAYUGA   \n",
       "861559         744186  2016-03-17  16:27:00                        SFO   \n",
       "...               ...         ...       ...                        ...   \n",
       "610664         578686  2012-07-08  01:50:00               125 BACON ST   \n",
       "555822         523842  2011-11-25  10:21:00        MINNESOTA @ 22ND ST   \n",
       "788690         797979  2015-04-22  22:30:00               245 BAYSHORE   \n",
       "400376         368139  2010-05-22  15:50:00  O\"FARRELL AND LEAVENWORTH   \n",
       "567525         535572  2012-01-16  12:20:00   BRAZIL AVE. @ MADRID ST.   \n",
       "\n",
       "              lat         lng district  subject_age subject_race subject_sex  \\\n",
       "206133  37.643488 -122.463757        A        100.0        white        male   \n",
       "250250  37.807110 -122.414362        A        100.0        white        male   \n",
       "288005  37.787376 -122.408247        A        100.0        white        male   \n",
       "364042  37.727176 -122.436832        H        100.0        white        male   \n",
       "861559  37.621313 -122.378955        S         99.0        other        male   \n",
       "...           ...         ...      ...          ...          ...         ...   \n",
       "610664  37.727386 -122.404041        C         10.0     hispanic        male   \n",
       "555822  37.757826 -122.390210        C         10.0        black      female   \n",
       "788690  37.744164 -122.404008        C         10.0        black      female   \n",
       "400376  37.785602 -122.414642        J         10.0        white        male   \n",
       "567525  37.723140 -122.431510        H         10.0        black        male   \n",
       "\n",
       "        ...   outcome  contraband_found  search_conducted  search_vehicle  \\\n",
       "206133  ...       NaN              True              True            True   \n",
       "250250  ...   warning               NaN             False           False   \n",
       "288005  ...   warning               NaN             False           False   \n",
       "364042  ...   warning              True              True            True   \n",
       "861559  ...       NaN               NaN             False           False   \n",
       "...     ...       ...               ...               ...             ...   \n",
       "610664  ...   warning             False              True            True   \n",
       "555822  ...  citation               NaN             False           False   \n",
       "788690  ...  citation               NaN             False           False   \n",
       "400376  ...  citation               NaN             False           False   \n",
       "567525  ...  citation               NaN             False           False   \n",
       "\n",
       "       search_basis                            reason_for_stop  \\\n",
       "206133        other                              MPC Violation   \n",
       "250250          NaN                           Moving Violation   \n",
       "288005          NaN                           Moving Violation   \n",
       "364042        other                           Moving Violation   \n",
       "861559          NaN  Mechanical or Non-Moving Violation (V.C.)   \n",
       "...             ...                                        ...   \n",
       "610664      consent  Mechanical or Non-Moving Violation (V.C.)   \n",
       "555822          NaN                           Moving Violation   \n",
       "788690          NaN                           Moving Violation   \n",
       "400376          NaN                           Moving Violation   \n",
       "567525          NaN                           Moving Violation   \n",
       "\n",
       "                 raw_search_vehicle_description  \\\n",
       "206133  Search without Consent, Positive Result   \n",
       "250250                                No Search   \n",
       "288005                                No Search   \n",
       "364042  Search without Consent, Positive Result   \n",
       "861559                                No Search   \n",
       "...                                         ...   \n",
       "610664     Search with Consent, Negative Result   \n",
       "555822                                No Search   \n",
       "788690                                No Search   \n",
       "400376                                No Search   \n",
       "567525                                No Search   \n",
       "\n",
       "        raw_result_of_contact_description NewColumn       full_timestamp  \n",
       "206133                  No Further Action   MyValue  2008-08-14 21:53:00  \n",
       "250250                            Warning   MyValue  2009-01-06 18:00:00  \n",
       "288005                            Warning   MyValue  2009-04-30 10:49:00  \n",
       "364042                            Warning   MyValue  2010-01-17 18:25:00  \n",
       "861559                  No Further Action   MyValue  2016-03-17 16:27:00  \n",
       "...                                   ...       ...                  ...  \n",
       "610664                            Warning   MyValue  2012-07-08 01:50:00  \n",
       "555822                           Citation   MyValue  2011-11-25 10:21:00  \n",
       "788690                           Citation   MyValue  2015-04-22 22:30:00  \n",
       "400376                           Citation   MyValue  2010-05-22 15:50:00  \n",
       "567525                           Citation   MyValue  2012-01-16 12:20:00  \n",
       "\n",
       "[905070 rows x 24 columns]"
      ]
     },
     "execution_count": 29,
     "metadata": {},
     "output_type": "execute_result"
    }
   ],
   "source": [
    "# Sort in descending order\n",
    "df.sort_values(by=['subject_age'], ascending=False)"
   ]
  },
  {
   "cell_type": "markdown",
   "metadata": {},
   "source": [
    "## Pair Programming:\n",
    "\n",
    "1. What percentage of traffic stops resulted in a citation?\n",
    "\n",
    "2. Which month had the most traffic stops?\n",
    "    * hint: can you use the str the `date` column \n",
    "\n",
    "3. Which hour of day had the most traffic stops?\n",
    "\n",
    "4. Can you make a plot from somethin gin the data?\n",
    "    https://pandas.pydata.org/pandas-docs/stable/user_guide/visualization.html"
   ]
  },
  {
   "cell_type": "code",
   "execution_count": null,
   "metadata": {},
   "outputs": [],
   "source": []
  },
  {
   "cell_type": "code",
   "execution_count": null,
   "metadata": {},
   "outputs": [],
   "source": []
  }
 ],
 "metadata": {
  "kernelspec": {
   "display_name": "Python 3",
   "language": "python",
   "name": "python3"
  },
  "language_info": {
   "codemirror_mode": {
    "name": "ipython",
    "version": 3
   },
   "file_extension": ".py",
   "mimetype": "text/x-python",
   "name": "python",
   "nbconvert_exporter": "python",
   "pygments_lexer": "ipython3",
   "version": "3.8.2"
  }
 },
 "nbformat": 4,
 "nbformat_minor": 4
}
