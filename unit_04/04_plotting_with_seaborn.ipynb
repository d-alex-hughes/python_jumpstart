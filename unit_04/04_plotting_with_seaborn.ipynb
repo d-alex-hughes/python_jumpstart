{
 "cells": [
  {
   "cell_type": "code",
   "execution_count": 1,
   "metadata": {},
   "outputs": [],
   "source": [
    "import pandas as pd \n",
    "import seaborn as sns"
   ]
  },
  {
   "cell_type": "code",
   "execution_count": 2,
   "metadata": {},
   "outputs": [
    {
     "data": {
      "text/html": [
       "<div>\n",
       "<style scoped>\n",
       "    .dataframe tbody tr th:only-of-type {\n",
       "        vertical-align: middle;\n",
       "    }\n",
       "\n",
       "    .dataframe tbody tr th {\n",
       "        vertical-align: top;\n",
       "    }\n",
       "\n",
       "    .dataframe thead th {\n",
       "        text-align: right;\n",
       "    }\n",
       "</style>\n",
       "<table border=\"1\" class=\"dataframe\">\n",
       "  <thead>\n",
       "    <tr style=\"text-align: right;\">\n",
       "      <th></th>\n",
       "      <th>total_bill</th>\n",
       "      <th>tip</th>\n",
       "      <th>sex</th>\n",
       "      <th>smoker</th>\n",
       "      <th>day</th>\n",
       "      <th>time</th>\n",
       "      <th>size</th>\n",
       "    </tr>\n",
       "  </thead>\n",
       "  <tbody>\n",
       "    <tr>\n",
       "      <td>0</td>\n",
       "      <td>16.99</td>\n",
       "      <td>1.01</td>\n",
       "      <td>Female</td>\n",
       "      <td>No</td>\n",
       "      <td>Sun</td>\n",
       "      <td>Dinner</td>\n",
       "      <td>2</td>\n",
       "    </tr>\n",
       "    <tr>\n",
       "      <td>1</td>\n",
       "      <td>10.34</td>\n",
       "      <td>1.66</td>\n",
       "      <td>Male</td>\n",
       "      <td>No</td>\n",
       "      <td>Sun</td>\n",
       "      <td>Dinner</td>\n",
       "      <td>3</td>\n",
       "    </tr>\n",
       "    <tr>\n",
       "      <td>2</td>\n",
       "      <td>21.01</td>\n",
       "      <td>3.50</td>\n",
       "      <td>Male</td>\n",
       "      <td>No</td>\n",
       "      <td>Sun</td>\n",
       "      <td>Dinner</td>\n",
       "      <td>3</td>\n",
       "    </tr>\n",
       "    <tr>\n",
       "      <td>3</td>\n",
       "      <td>23.68</td>\n",
       "      <td>3.31</td>\n",
       "      <td>Male</td>\n",
       "      <td>No</td>\n",
       "      <td>Sun</td>\n",
       "      <td>Dinner</td>\n",
       "      <td>2</td>\n",
       "    </tr>\n",
       "    <tr>\n",
       "      <td>4</td>\n",
       "      <td>24.59</td>\n",
       "      <td>3.61</td>\n",
       "      <td>Female</td>\n",
       "      <td>No</td>\n",
       "      <td>Sun</td>\n",
       "      <td>Dinner</td>\n",
       "      <td>4</td>\n",
       "    </tr>\n",
       "  </tbody>\n",
       "</table>\n",
       "</div>"
      ],
      "text/plain": [
       "   total_bill   tip     sex smoker  day    time  size\n",
       "0       16.99  1.01  Female     No  Sun  Dinner     2\n",
       "1       10.34  1.66    Male     No  Sun  Dinner     3\n",
       "2       21.01  3.50    Male     No  Sun  Dinner     3\n",
       "3       23.68  3.31    Male     No  Sun  Dinner     2\n",
       "4       24.59  3.61  Female     No  Sun  Dinner     4"
      ]
     },
     "execution_count": 2,
     "metadata": {},
     "output_type": "execute_result"
    }
   ],
   "source": [
    "tips = sns.load_dataset(\"tips\")\n",
    "tips.head()"
   ]
  },
  {
   "cell_type": "markdown",
   "metadata": {},
   "source": [
    "# Goals of Plotting \n",
    "\n",
    "For now, we're going to take a really limited view of what you want to accomplish when you're dealing with data -- you want to ask a question of the data and see it come back to you **as quickly as possible**. Because you're data scientist who is asking the question, we're going to presume several things: \n",
    "\n",
    "1. You know what the axes are\n",
    "2. You know what you're interested in for the plot \n",
    "3. You're not space constrained, so you don't have to worry about tinkering with `['this', 'that', 'the other thing']`. \n",
    "\n",
    "This isn't always the case -- when you do work, and give it to me to learn from you asyncronously, I lack the context to know what you're interested in (so you have to provide a caption), I *don't* understand how the variable names relate to what is actually in the variable (so you have to provide *descriptive* variable names), I don't know what you think you've learned from the plot or how it fits into your argument (so you have to write a paragraph that supports the plot). \n",
    "\n",
    "Here: our goal is that you can learn, as quickly as possible, about your data."
   ]
  },
  {
   "cell_type": "markdown",
   "metadata": {},
   "source": [
    "# Seaborn \n",
    "\n",
    "To meet the goal of \"learn as much as possible, as quickly as possible\" we're going to start using the `Seaborn` module. Seaborn is a high-level plotting module. It is built on top of `matplotlib`. The module is opinionated about how you should do your work. Most of the time, but not always, its opinions about how you should do your work are reasonable. \n",
    "\n",
    "## Opinion #1\n",
    "\n",
    "You should not *always* have to index every variable with with data frame that it comes from. Especially when you're plotting, either (a) you're using a single variable; or (b) the collection of your variables should be reasonably well-arranged. It is highly unlikely that you would have data in two different objects. If you do, you probably shouldn't. \n",
    "\n",
    "**Consequence:** Most of the Seaborn api takes a `data = ` argument. For example\n",
    "\n",
    "    sns.distplot(x='the_x_var', data = df); "
   ]
  },
  {
   "cell_type": "markdown",
   "metadata": {},
   "source": [
    "   \n",
    "## Opinion #2\n",
    "\n",
    "Of course you want to tinker. But tinkering is a way to waste time that you should be spending knowing what is in your data. Not making a plot \"just-so\". \n",
    "\n",
    "**Consequence**: Seaborn makes a reasonable set of assumptions about how you want your data to look. You're *much* better off if you consent to letting these be your defaults. If you insist, you can dig into the plot using `matplotlib`, but in my experience this is a boondoggle. "
   ]
  },
  {
   "cell_type": "markdown",
   "metadata": {},
   "source": [
    "## Opinion #3\n",
    "\n",
    "There are three families of plots. Well, really there are two families, but in one of those families they don't get along very well, and so they've been separated. \n",
    "\n",
    "![the_crown](https://media.giphy.com/media/3oriNNdygUAoeXuV4A/giphy.gif)\n"
   ]
  },
  {
   "cell_type": "markdown",
   "metadata": {},
   "source": [
    "**Consequence**: \n",
    "\n",
    "1. Plot type #1: **Relational Plots**. Relational plots work on the familiar x-y coordinate grid. They make a literal mapping of x-values and y-values onto this grid. \n",
    "\n",
    "       sns.relplot(x = 'x_var', y = 'y_var', data = df); \n",
    "       \n",
    "  1. We can represent more information into these plots: \n",
    "    1. Adding a `hue =` will set the colors of points based on another series this can be continuous or categorical\n",
    "    2. Adding a `style =` will set the shape of the point. This has to be a categorical series \n",
    "    3. Adding a `col=` or `row=` will create separate plots along a row or column. This has to be a categorical series. "
   ]
  },
  {
   "cell_type": "code",
   "execution_count": null,
   "metadata": {},
   "outputs": [],
   "source": []
  },
  {
   "cell_type": "markdown",
   "metadata": {},
   "source": [
    "2. Plot type #2. **Distribution Plots**. Relational plots are also displayed in the x-y axis, but the make a mapping of the data between where it sits in your Data Frame and how it is displayed in the plot. Most frequently this is a binned count of values -- these bins might be coarse, in which case you get a histogram. Or they might be quite fine, in which case you get a kernel-density plot. \n",
    "\n",
    "       sns.distplot(x = 'x_var', data = df);\n",
    "       sns.kdeplot(x = 'x_var', data = df)"
   ]
  },
  {
   "cell_type": "code",
   "execution_count": null,
   "metadata": {},
   "outputs": [],
   "source": []
  },
  {
   "cell_type": "markdown",
   "metadata": {},
   "source": [
    "3. Plot type #3. The feuding party of the distribution plot family -- **Categorical Plots**. With categories -- for example the things that we might group by -- we might want to display an outcome within each of those categories. Rather than mapping categorical data onto the x-axis through some relatively complex translation, `seaborn` just creates a new type of plot that is a category plot \n",
    "\n",
    "       sns.catplot(x = 'x_var' , y = 'total_bill', data = df);"
   ]
  },
  {
   "cell_type": "code",
   "execution_count": null,
   "metadata": {},
   "outputs": [],
   "source": []
  }
 ],
 "metadata": {
  "kernelspec": {
   "display_name": "Python 3",
   "language": "python",
   "name": "python3"
  },
  "language_info": {
   "codemirror_mode": {
    "name": "ipython",
    "version": 3
   },
   "file_extension": ".py",
   "mimetype": "text/x-python",
   "name": "python",
   "nbconvert_exporter": "python",
   "pygments_lexer": "ipython3",
   "version": "3.7.6"
  }
 },
 "nbformat": 4,
 "nbformat_minor": 2
}
