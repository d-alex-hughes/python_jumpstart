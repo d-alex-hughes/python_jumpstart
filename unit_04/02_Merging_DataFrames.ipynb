{
 "cells": [
  {
   "cell_type": "code",
   "execution_count": 1,
   "metadata": {},
   "outputs": [],
   "source": [
    "import pandas as pd\n",
    "import numpy as np"
   ]
  },
  {
   "cell_type": "markdown",
   "metadata": {},
   "source": [
    "## Merging\n",
    "\n",
    "Let's exploring joining DataFrames in Python with the Pandas `merge()` method.\n",
    "\n",
    "For this exercise, let's go to the Pandas package documentation to learn about how to use the method and follow along.\n",
    "\n",
    "https://pandas.pydata.org/docs/reference/api/pandas.merge.html?highlight=merge#pandas.merge\n",
    "\n",
    "https://pandas.pydata.org/pandas-docs/stable/user_guide/merging.html\n",
    "\n",
    "The dataset is provided to you in several csv files that each represent a table form a relational database.\n",
    "    * Students: dataframe with one record per student\n",
    "    * Classes: dataset with one record per class\n",
    "    * Enrollment: dataset with one record per student class pair\n",
    "    * Grades: grade for each class"
   ]
  },
  {
   "cell_type": "markdown",
   "metadata": {},
   "source": [
    "### Read Data"
   ]
  },
  {
   "cell_type": "code",
   "execution_count": 2,
   "metadata": {},
   "outputs": [],
   "source": [
    "students = pd.read_csv('students.csv')\n",
    "classes = pd.read_csv('classes.csv')\n",
    "enrollment = pd.read_csv('enrollment1.csv')\n",
    "grades = pd.read_csv('grades.csv')"
   ]
  },
  {
   "cell_type": "markdown",
   "metadata": {},
   "source": [
    "## Pair Programming\n",
    "\n",
    "For each of the following, before writing code - write out:\n",
    "    * what are the common keys we can use to join the tables?\n",
    "    * what type of join should we use?\n",
    "\n",
    "##### Questions:\n",
    "\n",
    "1. How many classes is each student taking? Join the `students` and `enrollment` tables\n",
    "\n",
    "2. How many units is each student taking? Join the `students`, `enrollment` and `classes` tables\n",
    "\n",
    "3. How classes are shared between each student and professor pair?\n",
    "\n",
    "4. Whats the average number of students each professor has in class?"
   ]
  },
  {
   "cell_type": "code",
   "execution_count": null,
   "metadata": {},
   "outputs": [],
   "source": []
  },
  {
   "cell_type": "code",
   "execution_count": null,
   "metadata": {},
   "outputs": [],
   "source": []
  },
  {
   "cell_type": "code",
   "execution_count": null,
   "metadata": {},
   "outputs": [],
   "source": []
  },
  {
   "cell_type": "code",
   "execution_count": null,
   "metadata": {},
   "outputs": [],
   "source": []
  },
  {
   "cell_type": "code",
   "execution_count": null,
   "metadata": {},
   "outputs": [],
   "source": []
  },
  {
   "cell_type": "code",
   "execution_count": null,
   "metadata": {},
   "outputs": [],
   "source": []
  },
  {
   "cell_type": "markdown",
   "metadata": {},
   "source": [
    "## Extra (if we have time)\n",
    "\n",
    "Let's also explore the Pandas Concatenate `concat()` method\n",
    "\n",
    "The documentation for the method is here: https://pandas.pydata.org/pandas-docs/stable/reference/api/pandas.concat.html?highlight=concat#pandas.concat\n",
    "\n",
    "We found an error when we pulled data earlier, and we only took some of the enrollment records. When we fixed our query, we found another file of additional records. How can we join them to our original enrollment?\n",
    "\n",
    "1. Join Enrollment Records using concatenate method\n",
    "\n",
    "2. If we wanted to know the average grade per class - can we use the concatenate method to join `grades` and `enrollment`? ) Why or why not?"
   ]
  },
  {
   "cell_type": "code",
   "execution_count": 3,
   "metadata": {},
   "outputs": [],
   "source": [
    "enrollment_part1 = pd.read_csv('enrollment1.csv')\n",
    "enrollment_part2 = pd.read_csv('enrollment2.csv')\n",
    "grades = pd.read_csv('grades.csv')"
   ]
  }
 ],
 "metadata": {
  "kernelspec": {
   "display_name": "Python 3",
   "language": "python",
   "name": "python3"
  },
  "language_info": {
   "codemirror_mode": {
    "name": "ipython",
    "version": 3
   },
   "file_extension": ".py",
   "mimetype": "text/x-python",
   "name": "python",
   "nbconvert_exporter": "python",
   "pygments_lexer": "ipython3",
   "version": "3.8.2"
  }
 },
 "nbformat": 4,
 "nbformat_minor": 4
}
